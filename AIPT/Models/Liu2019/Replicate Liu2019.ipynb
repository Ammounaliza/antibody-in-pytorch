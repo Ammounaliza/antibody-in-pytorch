{
 "cells": [
  {
   "cell_type": "code",
   "execution_count": null,
   "metadata": {
    "ExecuteTime": {
     "end_time": "2020-03-01T09:29:14.127513Z",
     "start_time": "2020-03-01T09:29:12.874756Z"
    },
    "collapsed": true
   },
   "outputs": [],
   "source": [
    "import torch\n",
    "import pandas as pd\n",
    "import numpy as np\n",
    "\n",
    "from AIPT.Benchmarks.Liu2019_enrichment.Liu2019_data_loader import train_test_loader, encode_data, dataset_split\n",
    "from AIPT.Model.Liu2019.CNNx1_regressor import CNN_regressor\n",
    "from AIPT.Model.Liu2019.DNN_regressor import DNN_regressor\n",
    "from AIPT.Model.Liu2019.CNNx2_regressor import CNNx2_regressor\n",
    "from AIPT.Model.Liu2019.CNNx1_classifier import CNN_classifier\n",
    "from AIPT.Model.Liu2019.DNN_classifier import DNN_classifier\n",
    "from AIPT.Model.Liu2019.CNNx2_classifier import CNNx2_classifier"
   ]
  },
  {
   "cell_type": "markdown",
   "metadata": {},
   "source": [
    "## prepare 4 data loaders (3 for regression + 1 for classification) "
   ]
  },
  {
   "cell_type": "code",
   "execution_count": null,
   "metadata": {
    "ExecuteTime": {
     "end_time": "2020-03-01T09:29:51.506607Z",
     "start_time": "2020-03-01T09:29:40.672134Z"
    },
    "collapsed": true
   },
   "outputs": [],
   "source": [
    "traindat = pd.read_csv('cdr3s.table_Feb10.csv')\n",
    "classifier_loader, regressor_loader1, regressor_loader2, regressor_loader3 = dataset_split(traindat, batch_size = 128, nd_ratio = 0.001)"
   ]
  },
  {
   "cell_type": "markdown",
   "metadata": {
    "scrolled": true
   },
   "source": [
    "## ensemble model training"
   ]
  },
  {
   "cell_type": "markdown",
   "metadata": {
    "heading_collapsed": true
   },
   "source": [
    "### model prepare\n",
    "(optional, parameter set saved in ensemble_params.p)"
   ]
  },
  {
   "cell_type": "code",
   "execution_count": null,
   "metadata": {
    "ExecuteTime": {
     "end_time": "2020-03-01T12:56:28.788901Z",
     "start_time": "2020-03-01T12:56:28.774215Z"
    },
    "collapsed": true,
    "hidden": true
   },
   "outputs": [],
   "source": [
    "model_name_DNN = ['Seq_32_32']\n",
    "para_dict_DNN = {'seq_len':18,\n",
    "             'batch_size':100,\n",
    "              'model_name':'Seq_32_32_reg',\n",
    "              'epoch':20,\n",
    "              'learning_rate':0.01,\n",
    "              'fc_hidden_dim':32,\n",
    "              'dropout_rate':0.3,\n",
    "              'GPU': True}\n",
    "\n",
    "model_name_CNN = ['Seq_32x1_16', 'Seq_64x1_16', 'Seq_32x1_16_filt3']\n",
    "n_filters = [32, 64, 32]\n",
    "filter_sizes = [5,5,3]\n",
    "para_dict_CNN = {'batch_size':100,\n",
    "             'seq_len':18,\n",
    "             'epoch':20,\n",
    "             'learning_rate':0.01,\n",
    "             'step_size':20,\n",
    "             'n_filter':32,\n",
    "             'filter_size':5,\n",
    "             'fc_hidden_dim':16,\n",
    "             'stride':2,\n",
    "             'dropout_rate': 0.3,\n",
    "              'GPU': True}\n",
    "\n",
    "model_name_CNNx2 = ['Seq_32x2_16', 'Seq_embed_32x1_16']\n",
    "n_filter1s = [32, 8]\n",
    "n_filter2s = [64, 32]\n",
    "filter_size1s = [5,1]\n",
    "filter_size2s = [5,5]\n",
    "para_dict_CNNx2 = {'seq_len':18,\n",
    "              'batch_size':100,\n",
    "              'model_name':'Seq_32x2_16_reg',\n",
    "              'epoch':20,\n",
    "              'learning_rate':0.001,\n",
    "              'step_size':5,\n",
    "              'n_filter1':32,\n",
    "              'n_filter2':64,\n",
    "              'filter_size1':5,\n",
    "              'filter_size2':5,\n",
    "              'fc_hidden_dim':16,\n",
    "              'dropout_rate':0.5,\n",
    "              'GPU': True,\n",
    "              'stride':1}"
   ]
  },
  {
   "cell_type": "code",
   "execution_count": null,
   "metadata": {
    "ExecuteTime": {
     "end_time": "2020-03-01T12:56:32.553650Z",
     "start_time": "2020-03-01T12:56:32.540413Z"
    },
    "collapsed": true,
    "hidden": true
   },
   "outputs": [],
   "source": [
    "ensemble_class_params = [para_dict_DNN.copy()] + [para_dict_CNN.copy(), para_dict_CNN.copy(), para_dict_CNN.copy()] + [para_dict_CNNx2.copy(), para_dict_CNNx2.copy()] \n",
    "\n",
    "# model names\n",
    "model_names = model_name_DNN + model_name_CNN + model_name_CNNx2\n",
    "for i in range(6):\n",
    "    ensemble_class_params[i]['model_name'] = model_names[i] + '_class'\n",
    "    \n",
    "# filters for CNN\n",
    "cnt = 0\n",
    "for i in range(1, 4):\n",
    "    tmp_para_dict = ensemble_class_params[i]\n",
    "    tmp_para_dict['n_filters'] = n_filters[cnt]\n",
    "    tmp_para_dict['filter_sizes'] = filter_sizes[cnt]\n",
    "    ensemble_class_params[i] = tmp_para_dict\n",
    "    cnt += 1\n",
    "\n",
    "# filters for CNNx2\n",
    "cnt = 0\n",
    "for i in range(4, 6):\n",
    "    ensemble_class_params[i]['n_filter1'] = n_filter1s[cnt]\n",
    "    ensemble_class_params[i]['n_filter2'] = n_filter2s[cnt]\n",
    "    ensemble_class_params[i]['filter_size1'] = filter_size1s[cnt]\n",
    "    ensemble_class_params[i]['filter_size2'] = filter_size2s[cnt]\n",
    "    cnt += 1"
   ]
  },
  {
   "cell_type": "code",
   "execution_count": null,
   "metadata": {
    "ExecuteTime": {
     "end_time": "2020-03-01T12:56:36.163042Z",
     "start_time": "2020-03-01T12:56:36.154097Z"
    },
    "collapsed": true,
    "hidden": true
   },
   "outputs": [],
   "source": [
    "import copy\n",
    "ensemble_reg_params = copy.deepcopy(ensemble_class_params) + copy.deepcopy(ensemble_class_params) + copy.deepcopy(ensemble_class_params)\n",
    "\n",
    "cnt = 0\n",
    "for i in range(3):\n",
    "    for j in range(6):\n",
    "        ensemble_reg_params[cnt]['model_name'] = ensemble_reg_params[cnt]['model_name'].split('_class')[0] + '_reg' + str(i+1)\n",
    "        cnt+=1      \n",
    "        "
   ]
  },
  {
   "cell_type": "code",
   "execution_count": null,
   "metadata": {
    "ExecuteTime": {
     "end_time": "2020-03-01T12:56:39.172869Z",
     "start_time": "2020-03-01T12:56:39.156108Z"
    },
    "collapsed": true,
    "hidden": true
   },
   "outputs": [],
   "source": [
    "len(ensemble_class_params), len(ensemble_reg_params)"
   ]
  },
  {
   "cell_type": "code",
   "execution_count": null,
   "metadata": {
    "ExecuteTime": {
     "end_time": "2020-03-01T12:56:43.964540Z",
     "start_time": "2020-03-01T12:56:43.958057Z"
    },
    "collapsed": true,
    "hidden": true
   },
   "outputs": [],
   "source": [
    "[xx['model_name'] for xx in ensemble_reg_params]"
   ]
  },
  {
   "cell_type": "code",
   "execution_count": null,
   "metadata": {
    "ExecuteTime": {
     "end_time": "2020-03-01T12:56:52.788996Z",
     "start_time": "2020-03-01T12:56:52.783492Z"
    },
    "collapsed": true,
    "hidden": true
   },
   "outputs": [],
   "source": [
    "import pickle\n",
    "pickle.dump([ensemble_class_params, ensemble_reg_params], open('ensemble_params.p','wb'))"
   ]
  },
  {
   "cell_type": "markdown",
   "metadata": {
    "heading_collapsed": true
   },
   "source": [
    "### hyperparam screening"
   ]
  },
  {
   "cell_type": "code",
   "execution_count": null,
   "metadata": {
    "ExecuteTime": {
     "end_time": "2020-02-23T15:07:08.361947Z",
     "start_time": "2020-02-23T15:07:08.357392Z"
    },
    "collapsed": true,
    "hidden": true
   },
   "outputs": [],
   "source": [
    "import pickle\n",
    "[ensemble_class_params, ensemble_reg_params] = pickle.load(open('ensemble_params.p', 'rb'))"
   ]
  },
  {
   "cell_type": "code",
   "execution_count": null,
   "metadata": {
    "ExecuteTime": {
     "end_time": "2020-02-23T14:43:50.915996Z",
     "start_time": "2020-02-23T14:17:07.555041Z"
    },
    "collapsed": true,
    "hidden": true,
    "scrolled": true
   },
   "outputs": [],
   "source": [
    "## Hyperparameter screening for classifiers\n",
    "\n",
    "import pdb\n",
    "import os\n",
    "os.environ[\"CUDA_VISIBLE_DEVICES\"] = \"1\"\n",
    "#torch.cuda.set_device(1)\n",
    "\n",
    "lr = [0.01, 0.005, 0.0005, 0.001, 0.0001]\n",
    "dropout = [0.3, 0.5, 0.7]\n",
    "n_epoch = 70\n",
    "\n",
    "for k in range(5, len(ensemble_class_params)):\n",
    "    print('--------')\n",
    "    best_score = -1\n",
    "    best_lr = 0\n",
    "    best_dropout = 0\n",
    "    current_para_dict = ensemble_class_params[k].copy()\n",
    "    for i in range(3, len(lr)):\n",
    "        current_para_dict['learning_rate'] = lr[i]\n",
    "        for j in range(len(dropout)):\n",
    "            current_para_dict['dropout_rate'] = dropout[j]\n",
    "            current_para_dict['epoch'] = n_epoch\n",
    "            if k % 6 == 0:\n",
    "                test_model = DNN_classifier(current_para_dict)\n",
    "            if k % 6 in [1, 2, 3]:\n",
    "                test_model = CNN_classifier(current_para_dict)\n",
    "            if k % 6 in [4, 5]:\n",
    "                test_model = CNNx2_classifier(current_para_dict)\n",
    "            \n",
    "            test_model.fit(classifier_loader[0])\n",
    "            print('-- Train set results --')\n",
    "            output = test_model.predict(classifier_loader[0])\n",
    "            labels = np.concatenate([i for _, i in classifier_loader[0]])\n",
    "            mat, acc, mcc = test_model.evaluate(output, labels)\n",
    "            print('-- Test set results --')\n",
    "            output = test_model.predict(classifier_loader[1])\n",
    "            labels = np.concatenate([i for _, i in classifier_loader[1]])\n",
    "            mat, acc, mcc = test_model.evaluate(output, labels)\n",
    "            if mcc > best_score:\n",
    "                best_score = mcc\n",
    "                best_lr = lr[i]\n",
    "                best_dropout = dropout[j]\n",
    "            print('Current best param: {} {}'.format(str(best_lr), str(best_dropout)))\n",
    "            os.system('rm -r %s' % test_model.save_path)\n",
    "    # update best parameter in the ensemble param list\n",
    "    ensemble_class_params[k]['learning_rate'] = best_lr\n",
    "    ensemble_class_params[k]['dropout_rate'] = best_dropout"
   ]
  },
  {
   "cell_type": "code",
   "execution_count": null,
   "metadata": {
    "ExecuteTime": {
     "end_time": "2020-02-23T16:29:19.251417Z",
     "start_time": "2020-02-23T15:07:46.185598Z"
    },
    "collapsed": true,
    "hidden": true,
    "scrolled": true
   },
   "outputs": [],
   "source": [
    "## Hyperparameter screening for regressor\n",
    "\n",
    "import os\n",
    "os.environ[\"CUDA_VISIBLE_DEVICES\"] = \"1\"\n",
    "reg_data_loaders = [regressor_loader1, regressor_loader2, regressor_loader3]\n",
    "lr = [0.01, 0.005, 0.0005, 0.001, 0.0001]\n",
    "dropout = [0.3, 0.5, 0.7]\n",
    "\n",
    "for k in range(len(ensemble_reg_params)):\n",
    "    best_score = 0\n",
    "    best_lr = 0\n",
    "    best_dropout = 0\n",
    "    current_para_dict = ensemble_reg_params[k].copy()\n",
    "    m = int(np.floor(k / 6.0))\n",
    "    for i in range(len(lr)):\n",
    "        current_para_dict['learning_rate'] = lr[i]\n",
    "        for j in range(len(dropout)):\n",
    "            current_para_dict['dropout_rate'] = dropout[j]\n",
    "            current_para_dict['epoch'] = 5\n",
    "            current_para_dict['GPU'] = True\n",
    "            if k % 6 == 0:\n",
    "                test_model = DNN_regressor(current_para_dict)\n",
    "            if k % 6 in [1, 2, 3]:\n",
    "                test_model = CNN_regressor(current_para_dict)\n",
    "            if k % 6 in [4, 5]:\n",
    "                test_model = CNNx2_regressor(current_para_dict)\n",
    "            \n",
    "            test_model.fit(reg_data_loaders[m][0])\n",
    "            \n",
    "            print('-- Train set results --')\n",
    "            train_loader = reg_data_loaders[m][0]\n",
    "            output = test_model.predict(train_loader)\n",
    "            labels = np.concatenate([i for _, i in train_loader])\n",
    "            r2, mse = test_model.evaluate(output, labels)\n",
    "            print('-- Test set results --')\n",
    "            test_loader = reg_data_loaders[m][1]\n",
    "            output = test_model.predict(test_loader)\n",
    "            labels = np.concatenate([i for _, i in test_loader])\n",
    "            r2, mse = test_model.evaluate(output, labels)\n",
    "        \n",
    "            if r2 > best_score:\n",
    "                best_score = r2\n",
    "                best_lr = lr[i]\n",
    "                best_dropout = dropout[j]\n",
    "            print('Current best param: {} {}'.format(str(best_lr), str(best_dropout)))\n",
    "            os.system('rm -r %s' % test_model.save_path)\n",
    "            \n",
    "    # update best parameter in the ensemble param list\n",
    "    ensemble_reg_params[k]['learning_rate'] = best_lr\n",
    "    ensemble_reg_params[k]['dropout_rate'] = best_dropout\n",
    "            "
   ]
  },
  {
   "cell_type": "code",
   "execution_count": null,
   "metadata": {
    "ExecuteTime": {
     "end_time": "2020-02-23T16:29:56.897517Z",
     "start_time": "2020-02-23T16:29:56.891490Z"
    },
    "collapsed": true,
    "hidden": true
   },
   "outputs": [],
   "source": [
    "import pickle\n",
    "pickle.dump([ensemble_class_params, ensemble_reg_params], open('ensemble_params_Feb24.p','wb'))"
   ]
  },
  {
   "cell_type": "code",
   "execution_count": null,
   "metadata": {
    "ExecuteTime": {
     "end_time": "2020-02-24T07:31:39.201688Z",
     "start_time": "2020-02-24T07:31:39.089621Z"
    },
    "collapsed": true,
    "hidden": true
   },
   "outputs": [],
   "source": [
    "import os\n",
    "os.system('rm -r work')"
   ]
  },
  {
   "cell_type": "markdown",
   "metadata": {
    "heading_collapsed": true
   },
   "source": [
    "### training"
   ]
  },
  {
   "cell_type": "code",
   "execution_count": null,
   "metadata": {
    "ExecuteTime": {
     "end_time": "2020-03-01T09:28:59.852228Z",
     "start_time": "2020-03-01T09:28:59.847195Z"
    },
    "collapsed": true,
    "hidden": true,
    "scrolled": true
   },
   "outputs": [],
   "source": [
    "import pickle\n",
    "[ensemble_class_params, ensemble_reg_params] = pickle.load(open('ensemble_params_Feb24.p', 'rb'))"
   ]
  },
  {
   "cell_type": "code",
   "execution_count": null,
   "metadata": {
    "ExecuteTime": {
     "end_time": "2020-02-24T07:33:52.137726Z",
     "start_time": "2020-02-24T07:33:17.031472Z"
    },
    "collapsed": true,
    "hidden": true,
    "scrolled": true
   },
   "outputs": [],
   "source": [
    "## Training 6 classifiers\n",
    "\n",
    "train_acc_store = []\n",
    "test_mcc_store = []\n",
    "train_mcc_store = []\n",
    "test_acc_store = []\n",
    "model_names_list = []\n",
    "\n",
    "for k in range(len(ensemble_class_params)):\n",
    "    current_para_dict = ensemble_class_params[k]\n",
    "    current_para_dict['GPU'] = True\n",
    "    current_para_dict['epoch'] = 80\n",
    "    print('---- Processing %s -----' % current_para_dict['model_name'])\n",
    "    \n",
    "    if k % 6 == 0:\n",
    "        test_model = DNN_classifier(current_para_dict)\n",
    "    if k % 6 in [1, 2, 3]:\n",
    "        test_model = CNN_classifier(current_para_dict)\n",
    "    if k % 6 in [4, 5]:\n",
    "        current_para_dict['stride'] = 1\n",
    "        test_model = CNNx2_classifier(current_para_dict)\n",
    "            \n",
    "    test_model.fit(classifier_loader[0])\n",
    "    \n",
    "    print('-- Train set results --')\n",
    "    output = test_model.predict(classifier_loader[0])\n",
    "    labels = np.concatenate([i for _, i in classifier_loader[0]])\n",
    "    mat, acc, mcc = test_model.evaluate(output, labels)\n",
    "    train_acc_store.append(acc)\n",
    "    train_mcc_store.append(mcc)\n",
    "    print('-- Test set results --')\n",
    "    output = test_model.predict(classifier_loader[1])\n",
    "    labels = np.concatenate([i for _, i in classifier_loader[1]])\n",
    "    mat, acc, mcc = test_model.evaluate(output, labels)\n",
    "    test_acc_store.append(acc)\n",
    "    test_mcc_store.append(mcc)\n",
    "    model_names_list.append(current_para_dict['model_name'])\n",
    "\n",
    "result_df = pd.DataFrame({'model_name': model_names_list,\n",
    "                          'train_acc': train_acc_store, 'train_mcc': train_mcc_store,\n",
    "                          'test_acc': test_acc_store, 'test_mcc': test_mcc_store})\n",
    "result_df.to_csv('classifier_log_Feb24_new.csv', index=None)"
   ]
  },
  {
   "cell_type": "code",
   "execution_count": null,
   "metadata": {
    "ExecuteTime": {
     "end_time": "2020-02-24T08:12:13.007347Z",
     "start_time": "2020-02-24T07:34:21.969098Z"
    },
    "collapsed": true,
    "hidden": true,
    "scrolled": true
   },
   "outputs": [],
   "source": [
    "## Training 18 regressors\n",
    "\n",
    "reg_data_loaders = [regressor_loader1, regressor_loader2, regressor_loader3]\n",
    "\n",
    "train_r2_store = []\n",
    "test_mse_store = []\n",
    "train_mse_store = []\n",
    "test_r2_store = []\n",
    "model_names_list = []\n",
    "\n",
    "for k in range(len(ensemble_reg_params)):\n",
    "    current_para_dict = ensemble_reg_params[k]\n",
    "    current_para_dict['GPU'] = True\n",
    "    current_para_dict['epoch'] = 80\n",
    "    print('---- Processing %s -----' % current_para_dict['model_name'])\n",
    "    \n",
    "    if k % 6 == 0:\n",
    "        test_model = DNN_regressor(current_para_dict)\n",
    "    if k % 6 in [1, 2, 3]:\n",
    "        test_model = CNN_regressor(current_para_dict)\n",
    "    if k % 6 in [4, 5]:\n",
    "        current_para_dict['stride'] = 1\n",
    "        test_model = CNNx2_regressor(current_para_dict)\n",
    "    \n",
    "    m = int(np.floor(k / 6.0))\n",
    "    test_model.fit(reg_data_loaders[m][0])\n",
    "    \n",
    "    print('-- Train set results --')\n",
    "    output = test_model.predict(reg_data_loaders[m][0])\n",
    "    labels = np.concatenate([i for _, i in reg_data_loaders[m][0]])\n",
    "    r2, mse = test_model.evaluate(output, labels)\n",
    "    train_r2_store.append(r2)\n",
    "    train_mse_store.append(mse)\n",
    "    print('-- Test set results --')\n",
    "    output = test_model.predict(reg_data_loaders[m][1])\n",
    "    labels = np.concatenate([i for _, i in reg_data_loaders[m][1]])\n",
    "    r2, mse = test_model.evaluate(output, labels)\n",
    "    test_r2_store.append(r2)\n",
    "    test_mse_store.append(mse)\n",
    "    \n",
    "    model_names_list.append(current_para_dict['model_name'])\n",
    "    \n",
    "result_df = pd.DataFrame({'model_name': model_names_list,\n",
    "                          'train_r2': train_r2_store, 'train_mse': train_mse_store,\n",
    "                          'test_r2': test_r2_store, 'test_mse': test_mse_store})\n",
    "result_df.to_csv('regressor_log_Feb24.csv', index=None)"
   ]
  },
  {
   "cell_type": "markdown",
   "metadata": {
    "heading_collapsed": true
   },
   "source": [
    "### test ensemble model performance"
   ]
  },
  {
   "cell_type": "markdown",
   "metadata": {
    "hidden": true
   },
   "source": [
    "#### regressor ensemble performances"
   ]
  },
  {
   "cell_type": "code",
   "execution_count": null,
   "metadata": {
    "ExecuteTime": {
     "end_time": "2020-03-01T08:29:20.358688Z",
     "start_time": "2020-03-01T08:29:20.246790Z"
    },
    "collapsed": true,
    "hidden": true
   },
   "outputs": [],
   "source": [
    "ensemble_reg_models = []\n",
    "for k in range(len(ensemble_reg_params)):\n",
    "    current_para_dict = ensemble_reg_params[k]\n",
    "    if k % 6 == 0:\n",
    "        test_model = DNN_regressor(current_para_dict)\n",
    "    if k % 6 in [1, 2, 3]:\n",
    "        test_model = CNN_regressor(current_para_dict)\n",
    "    if k % 6 in [4, 5]:\n",
    "        test_model = CNNx2_regressor(current_para_dict)\n",
    "    test_model.net_init()    \n",
    "    test_model.load_model()\n",
    "    \n",
    "    ensemble_reg_models.append(test_model)"
   ]
  },
  {
   "cell_type": "code",
   "execution_count": null,
   "metadata": {
    "ExecuteTime": {
     "end_time": "2020-03-01T08:32:08.102657Z",
     "start_time": "2020-03-01T08:32:03.096173Z"
    },
    "collapsed": true,
    "hidden": true,
    "scrolled": true
   },
   "outputs": [],
   "source": [
    "test_loader = regressor_loader1[1]\n",
    "test_mse_store = []\n",
    "test_r2_store = []\n",
    "y_pred = []\n",
    "\n",
    "for k in range(len(ensemble_reg_params)):\n",
    "    test_model = ensemble_reg_models[k]\n",
    "    output = test_model.predict(test_loader)\n",
    "    labels = np.concatenate([i for _, i in test_loader])\n",
    "    r2, mse = test_model.evaluate(output, labels)\n",
    "    test_r2_store.append(r2)\n",
    "    test_mse_store.append(mse)\n",
    "    y_pred.append(output)"
   ]
  },
  {
   "cell_type": "code",
   "execution_count": null,
   "metadata": {
    "ExecuteTime": {
     "end_time": "2020-02-24T08:44:28.699275Z",
     "start_time": "2020-02-24T08:44:28.689078Z"
    },
    "collapsed": true,
    "hidden": true
   },
   "outputs": [],
   "source": [
    "y_pred_ensemble = np.mean(np.concatenate(y_pred, axis = 1), axis = 1)\n",
    "r2, mse = test_model.evaluate(y_pred_ensemble, labels)\n",
    "test_r2_store.append(r2)\n",
    "test_mse_store.append(mse)"
   ]
  },
  {
   "cell_type": "code",
   "execution_count": null,
   "metadata": {
    "ExecuteTime": {
     "end_time": "2020-02-24T08:47:27.773347Z",
     "start_time": "2020-02-24T08:47:27.762367Z"
    },
    "collapsed": true,
    "hidden": true
   },
   "outputs": [],
   "source": [
    "performance_df = pd.DataFrame({'model': ['regressor'] *18 + ['ensemble'],\n",
    "                               'R2': test_r2_store, 'mse': test_mse_store})\n",
    "performance_df.to_csv('ensemble_performance_check.csv', index = None)"
   ]
  },
  {
   "cell_type": "markdown",
   "metadata": {
    "hidden": true
   },
   "source": [
    "#### classifier ensemble performances"
   ]
  },
  {
   "cell_type": "code",
   "execution_count": null,
   "metadata": {
    "ExecuteTime": {
     "end_time": "2020-03-01T09:29:28.427137Z",
     "start_time": "2020-03-01T09:29:22.860380Z"
    },
    "collapsed": true,
    "hidden": true
   },
   "outputs": [],
   "source": [
    "ensemble_class_models = []\n",
    "for k in range(len(ensemble_class_params)):\n",
    "    current_para_dict = ensemble_class_params[k]\n",
    "    if k % 6 == 0:\n",
    "        test_model = DNN_classifier(current_para_dict)\n",
    "    if k % 6 in [1, 2, 3]:\n",
    "        test_model = CNN_classifier(current_para_dict)\n",
    "    if k % 6 in [4, 5]:\n",
    "        test_model = CNNx2_classifier(current_para_dict)\n",
    "        #current_param = test_model.load_param()\n",
    "        #test_model = CNNx2_regressor(current_param)\n",
    "    test_model.net_init()\n",
    "    test_model.load_model()\n",
    "    \n",
    "    ensemble_class_models.append(test_model)"
   ]
  },
  {
   "cell_type": "code",
   "execution_count": null,
   "metadata": {
    "ExecuteTime": {
     "end_time": "2020-03-01T09:29:56.617899Z",
     "start_time": "2020-03-01T09:29:56.469446Z"
    },
    "collapsed": true,
    "hidden": true
   },
   "outputs": [],
   "source": [
    "test_loader = classifier_loader[1]\n",
    "x = np.concatenate([i for i, _ in test_loader], axis = 0)\n",
    "y = np.concatenate([i for _, i in test_loader], axis = 0).astype(np.int64)"
   ]
  },
  {
   "cell_type": "code",
   "execution_count": null,
   "metadata": {
    "ExecuteTime": {
     "end_time": "2020-03-01T09:31:33.235249Z",
     "start_time": "2020-03-01T09:31:32.097438Z"
    },
    "collapsed": true,
    "hidden": true
   },
   "outputs": [],
   "source": [
    "from sklearn.metrics import roc_auc_score\n",
    "from sklearn.metrics import roc_curve, auc\n",
    "fpr_store = []\n",
    "tpr_store = []\n",
    "roc_auc = []\n",
    "\n",
    "for k in range(len(ensemble_class_models)):\n",
    "    y_pred_raw = ensemble_class_models[k].predict(test_loader)\n",
    "    y_pred = y_pred_raw[:,1]\n",
    "    fpr, tpr, _ = roc_curve(y, y_pred)\n",
    "    roc_auc.append(auc(fpr, tpr))\n",
    "    fpr_store.append(fpr)\n",
    "    tpr_store.append(tpr)"
   ]
  },
  {
   "cell_type": "code",
   "execution_count": null,
   "metadata": {
    "ExecuteTime": {
     "end_time": "2020-03-01T09:38:31.080406Z",
     "start_time": "2020-03-01T09:38:30.827239Z"
    },
    "collapsed": true,
    "hidden": true
   },
   "outputs": [],
   "source": [
    "import matplotlib.pyplot as plt\n",
    "%matplotlib inline\n",
    "plt.figure()\n",
    "lw = 1.5\n",
    "for k in range(6):\n",
    "    plt.plot(fpr_store[k], tpr_store[k], color='darkorange',\n",
    "             lw=lw, label='%s (area = %0.2f)' % (ensemble_class_models[k].para_dict['model_name'],roc_auc[k]))\n",
    "\n",
    "plt.plot([0, 1], [0, 1], color='navy', lw=1, linestyle='--')\n",
    "plt.xlim([0.0, 1.0])\n",
    "plt.ylim([0.0, 1.05])\n",
    "plt.xlabel('False Positive Rate')\n",
    "plt.ylabel('True Positive Rate')\n",
    "plt.title('Receiver operating characteristic example')\n",
    "plt.legend(loc=\"lower right\")\n",
    "plt.show()"
   ]
  },
  {
   "cell_type": "code",
   "execution_count": null,
   "metadata": {
    "collapsed": true,
    "hidden": true
   },
   "outputs": [],
   "source": []
  },
  {
   "cell_type": "markdown",
   "metadata": {},
   "source": [
    "## optimization"
   ]
  },
  {
   "cell_type": "markdown",
   "metadata": {
    "heading_collapsed": true
   },
   "source": [
    "### prepare seed sequences\n",
    "either non-negative R2-to-R3 enrichment or larger than 5e-5 frequency in R3"
   ]
  },
  {
   "cell_type": "code",
   "execution_count": null,
   "metadata": {
    "ExecuteTime": {
     "end_time": "2020-02-24T15:21:36.348387Z",
     "start_time": "2020-02-24T15:21:36.096757Z"
    },
    "collapsed": true,
    "hidden": true
   },
   "outputs": [],
   "source": [
    "traindat = pd.read_csv('cdr3s.table_Feb10.csv')\n",
    "traindat.head()"
   ]
  },
  {
   "cell_type": "code",
   "execution_count": null,
   "metadata": {
    "ExecuteTime": {
     "end_time": "2020-02-24T15:21:38.915692Z",
     "start_time": "2020-02-24T15:21:38.889399Z"
    },
    "collapsed": true,
    "hidden": true
   },
   "outputs": [],
   "source": [
    "seed_seqs1 = traindat.loc[traindat['log10(R3/R2)'] >= 0]\n",
    "seed_seqs2 = traindat.loc[traindat['round3_freq'] >= 5e-5]"
   ]
  },
  {
   "cell_type": "code",
   "execution_count": null,
   "metadata": {
    "ExecuteTime": {
     "end_time": "2020-02-24T15:21:43.189966Z",
     "start_time": "2020-02-24T15:21:42.673204Z"
    },
    "collapsed": true,
    "hidden": true,
    "scrolled": true
   },
   "outputs": [],
   "source": [
    "import seaborn as sns\n",
    "%matplotlib inline\n",
    "sns.distplot(seed_seqs2['log10(R3/R2)'].values)"
   ]
  },
  {
   "cell_type": "code",
   "execution_count": null,
   "metadata": {
    "ExecuteTime": {
     "end_time": "2020-02-24T15:21:46.159190Z",
     "start_time": "2020-02-24T15:21:46.065450Z"
    },
    "collapsed": true,
    "hidden": true
   },
   "outputs": [],
   "source": [
    "# prepare seed seq data loader\n",
    "x = seed_seqs2['cdr3'].values\n",
    "X_dat = np.array([encode_data(item, gapped = False, seq_len = 18) for item in x])\n",
    "y_reg = seed_seqs2['log10(R3/R2)'].to_numpy()\n",
    "seed_seqs = torch.from_numpy(X_dat).float()\n",
    "#seed_dataset = torch.utils.data.TensorDataset(torch.from_numpy(X_dat).float(), torch.from_numpy(y_reg).float())\n",
    "#seed_loader = torch.utils.data.DataLoader(dataset=seed_dataset, batch_size=128)"
   ]
  },
  {
   "cell_type": "markdown",
   "metadata": {
    "heading_collapsed": true
   },
   "source": [
    "### optimization"
   ]
  },
  {
   "cell_type": "code",
   "execution_count": null,
   "metadata": {
    "ExecuteTime": {
     "end_time": "2020-02-24T15:21:49.045294Z",
     "start_time": "2020-02-24T15:21:49.039536Z"
    },
    "collapsed": true,
    "hidden": true
   },
   "outputs": [],
   "source": [
    "import pickle\n",
    "[ensemble_class_params, ensemble_reg_params] = pickle.load(open('ensemble_params_Feb24_new.p', 'rb'))"
   ]
  },
  {
   "cell_type": "code",
   "execution_count": null,
   "metadata": {
    "ExecuteTime": {
     "end_time": "2020-02-24T15:40:50.693594Z",
     "start_time": "2020-02-24T15:23:43.352013Z"
    },
    "collapsed": true,
    "hidden": true,
    "scrolled": true
   },
   "outputs": [],
   "source": [
    "step_sizes = [1e-4, 5e-4, 1e-3, 5e-3, 1e-2]\n",
    "intervals = [10,20,30,40,50,60,70,80]\n",
    "\n",
    "new_seqs = []\n",
    "for k in range(0, len(ensemble_class_params)):\n",
    "    current_para_dict = ensemble_class_params[k]\n",
    "    current_para_dict['GPU'] = False   # WHY????\n",
    "    print('---- Processing %s -----' % current_para_dict['model_name'])\n",
    "    if k % 6 == 0:\n",
    "        test_model = DNN_classifier(current_para_dict)\n",
    "    if k % 6 in [1, 2, 3]:\n",
    "        test_model = CNN_classifier(current_para_dict)\n",
    "    if k % 6 in [4, 5]:\n",
    "        test_model = CNNx2_classifier(current_para_dict)\n",
    "    \n",
    "    test_model.net_init()\n",
    "    test_model.load_model()\n",
    "    \n",
    "    for i in range(len(step_sizes)):\n",
    "        for j in range(len(intervals)):\n",
    "            new_seqs.append(test_model.optimization(seed_seqs, \n",
    "                                            step_size = step_sizes[i], interval = intervals[j]))"
   ]
  },
  {
   "cell_type": "code",
   "execution_count": null,
   "metadata": {
    "ExecuteTime": {
     "end_time": "2020-02-24T16:28:31.328053Z",
     "start_time": "2020-02-24T15:53:26.093426Z"
    },
    "collapsed": true,
    "hidden": true,
    "scrolled": true
   },
   "outputs": [],
   "source": [
    "new_seqs2 = []\n",
    "for k in range(5, len(ensemble_reg_params)):\n",
    "    current_para_dict = ensemble_reg_params[k]\n",
    "    current_para_dict['GPU'] = False\n",
    "    print('---- Processing %s -----' % current_para_dict['model_name'])\n",
    "    if k % 6 == 0:\n",
    "        test_model = DNN_regressor(current_para_dict)\n",
    "    if k % 6 in [1, 2, 3]:\n",
    "        test_model = CNN_regressor(current_para_dict)\n",
    "    if k % 6 in [4, 5]:\n",
    "        test_model = CNNx2_regressor(current_para_dict)\n",
    "    \n",
    "    test_model.net_init()\n",
    "    test_model.load_model()\n",
    "    \n",
    "    for i in range(len(step_sizes)):\n",
    "        for j in range(len(intervals)):\n",
    "            new_seqs2.append(test_model.optimization(seed_seqs, \n",
    "                                            step_size = step_sizes[i], interval = intervals[j]))"
   ]
  },
  {
   "cell_type": "code",
   "execution_count": null,
   "metadata": {
    "ExecuteTime": {
     "end_time": "2020-02-24T16:29:04.128698Z",
     "start_time": "2020-02-24T16:28:57.356644Z"
    },
    "collapsed": true,
    "hidden": true
   },
   "outputs": [],
   "source": [
    "seq_pool = np.concatenate(new_seqs2, axis = 0)\n",
    "seq_pool.shape"
   ]
  },
  {
   "cell_type": "markdown",
   "metadata": {},
   "source": [
    "## Voting"
   ]
  },
  {
   "cell_type": "markdown",
   "metadata": {
    "heading_collapsed": true
   },
   "source": [
    "### quantitative evaluation using ensemble reg models"
   ]
  },
  {
   "cell_type": "code",
   "execution_count": null,
   "metadata": {
    "ExecuteTime": {
     "end_time": "2020-02-24T16:32:21.711141Z",
     "start_time": "2020-02-24T16:29:26.296015Z"
    },
    "collapsed": true,
    "hidden": true,
    "scrolled": true
   },
   "outputs": [],
   "source": [
    "import pdb\n",
    "evaluate_mat = np.zeros((seq_pool.shape[0], 18))\n",
    "y = np.zeros((seq_pool.shape[0],))\n",
    "seed_dataset = torch.utils.data.TensorDataset(torch.from_numpy(seq_pool).float(),torch.from_numpy(y).float())\n",
    "seed_loader = torch.utils.data.DataLoader(dataset=seed_dataset, batch_size=128)\n",
    "\n",
    "for k in range(len(ensemble_reg_params)):\n",
    "    current_para_dict = ensemble_reg_params[k]\n",
    "    print('---- Processing %s -----' % current_para_dict['model_name'])\n",
    "    if k % 6 == 0:\n",
    "        test_model = DNN_regressor(current_para_dict)\n",
    "    if k % 6 in [1, 2, 3]:\n",
    "        test_model = CNN_regressor(current_para_dict)\n",
    "    if k % 6 in [4, 5]:\n",
    "        test_model = CNNx2_regressor(current_para_dict)\n",
    "    \n",
    "    test_model.net_init()\n",
    "    test_model.load_model()\n",
    "    \n",
    "    evaluate_mat[:, k] = test_model.predict(seed_loader).flatten()"
   ]
  },
  {
   "cell_type": "code",
   "execution_count": null,
   "metadata": {
    "ExecuteTime": {
     "end_time": "2020-02-24T16:34:03.061779Z",
     "start_time": "2020-02-24T16:34:03.054630Z"
    },
    "collapsed": true,
    "hidden": true
   },
   "outputs": [],
   "source": [
    "AA_LS = 'ACDEFGHIKLMNPQRSTVWY-'\n",
    "\n",
    "def mat_2_seq(dat):\n",
    "    seq_pos = dat.transpose().argmax(axis = 0)\n",
    "    return ''.join([AA_LS[item] for item in seq_pos])"
   ]
  },
  {
   "cell_type": "code",
   "execution_count": null,
   "metadata": {
    "ExecuteTime": {
     "end_time": "2020-02-24T16:34:20.410295Z",
     "start_time": "2020-02-24T16:34:15.845875Z"
    },
    "collapsed": true,
    "hidden": true
   },
   "outputs": [],
   "source": [
    "aa_seq_pool = [None for _ in range(seq_pool.shape[0])]\n",
    "for i in range(len(aa_seq_pool)):\n",
    "    aa_seq_pool[i] = mat_2_seq(seq_pool[i,:,:])"
   ]
  },
  {
   "cell_type": "code",
   "execution_count": null,
   "metadata": {
    "ExecuteTime": {
     "end_time": "2020-02-24T16:34:55.189537Z",
     "start_time": "2020-02-24T16:34:33.407829Z"
    },
    "collapsed": true,
    "hidden": true
   },
   "outputs": [],
   "source": [
    "seq_eval_df = pd.DataFrame(evaluate_mat)\n",
    "seq_eval_df.columns = [xx['model_name'] for xx in ensemble_reg_params]\n",
    "seq_eval_df['cdr3'] = aa_seq_pool\n",
    "seq_eval_df.to_csv('seq_pool_reg_Feb24.csv', index = None)"
   ]
  },
  {
   "cell_type": "code",
   "execution_count": null,
   "metadata": {
    "collapsed": true,
    "hidden": true
   },
   "outputs": [],
   "source": []
  },
  {
   "cell_type": "code",
   "execution_count": null,
   "metadata": {
    "collapsed": true,
    "hidden": true
   },
   "outputs": [],
   "source": []
  },
  {
   "cell_type": "markdown",
   "metadata": {},
   "source": [
    "### count for top sequences\n",
    "### Non-negative lower bound --> positive candidates\n",
    "performed in R studio"
   ]
  },
  {
   "cell_type": "code",
   "execution_count": null,
   "metadata": {
    "collapsed": true
   },
   "outputs": [],
   "source": []
  }
 ],
 "metadata": {
  "kernelspec": {
   "display_name": "pytorch",
   "language": "python",
   "name": "pytorch"
  },
  "language_info": {
   "codemirror_mode": {
    "name": "ipython",
    "version": 3
   },
   "file_extension": ".py",
   "mimetype": "text/x-python",
   "name": "python",
   "nbconvert_exporter": "python",
   "pygments_lexer": "ipython3",
   "version": "3.7.4"
  },
  "toc": {
   "base_numbering": 1,
   "nav_menu": {},
   "number_sections": true,
   "sideBar": true,
   "skip_h1_title": false,
   "title_cell": "Table of Contents",
   "title_sidebar": "Contents",
   "toc_cell": false,
   "toc_position": {},
   "toc_section_display": true,
   "toc_window_display": false
  },
  "varInspector": {
   "cols": {
    "lenName": 16,
    "lenType": 16,
    "lenVar": 40
   },
   "kernels_config": {
    "python": {
     "delete_cmd_postfix": "",
     "delete_cmd_prefix": "del ",
     "library": "var_list.py",
     "varRefreshCmd": "print(var_dic_list())"
    },
    "r": {
     "delete_cmd_postfix": ") ",
     "delete_cmd_prefix": "rm(",
     "library": "var_list.r",
     "varRefreshCmd": "cat(var_dic_list()) "
    }
   },
   "types_to_exclude": [
    "module",
    "function",
    "builtin_function_or_method",
    "instance",
    "_Feature"
   ],
   "window_display": false
  }
 },
 "nbformat": 4,
 "nbformat_minor": 2
}
